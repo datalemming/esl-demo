{
 "cells": [
  {
   "cell_type": "markdown",
   "metadata": {},
   "source": [
    "To create the table in Riak for the HVAC data"
   ]
  },
  {
   "cell_type": "code",
   "execution_count": 1,
   "metadata": {
    "collapsed": false
   },
   "outputs": [
    {
     "name": "stderr",
     "output_type": "stream",
     "text": [
      "/home/stephen/ESL/local/lib/python2.7/site-packages/riak/security.py:45: UserWarning: OpenSSL 1.0.1f 6 Jan 2014 (>= 1.0.1g required), TLS 1.2 support: False\n",
      "  warnings.warn(msg, UserWarning)\n"
     ]
    }
   ],
   "source": [
    "from riak import RiakClient, RiakNode"
   ]
  },
  {
   "cell_type": "code",
   "execution_count": 2,
   "metadata": {
    "collapsed": false
   },
   "outputs": [],
   "source": [
    "myClient = RiakClient(pb_port=8087, protocol='pbc')"
   ]
  },
  {
   "cell_type": "code",
   "execution_count": 3,
   "metadata": {
    "collapsed": false
   },
   "outputs": [
    {
     "data": {
      "text/plain": [
       "True"
      ]
     },
     "execution_count": 3,
     "metadata": {},
     "output_type": "execute_result"
    }
   ],
   "source": [
    "myClient.ping()"
   ]
  },
  {
   "cell_type": "code",
   "execution_count": 4,
   "metadata": {
    "collapsed": false
   },
   "outputs": [
    {
     "data": {
      "text/plain": [
       "<riak.ts_object.TsObject at 0x7f8074cb10d0>"
      ]
     },
     "execution_count": 4,
     "metadata": {},
     "output_type": "execute_result"
    }
   ],
   "source": [
    "myClient.ts_query(\"hvac30d\",\"CREATE TABLE hvac30d (buildingid varchar not null,systemid varchar not null,readingtime timestamp not null,systemage sint64 not null,targettemp sint64 not null,actualtemp sint64 not null,primary key ((buildingid, systemid,quantum(readingtime,30,'d')),buildingid,systemid,readingtime))\")"
   ]
  },
  {
   "cell_type": "code",
   "execution_count": 5,
   "metadata": {
    "collapsed": false
   },
   "outputs": [
    {
     "data": {
      "text/plain": [
       "<riak.ts_object.TsObject at 0x7f8074c92f90>"
      ]
     },
     "execution_count": 5,
     "metadata": {},
     "output_type": "execute_result"
    }
   ],
   "source": [
    "myClient.ts_describe('hvac30d')"
   ]
  },
  {
   "cell_type": "code",
   "execution_count": 6,
   "metadata": {
    "collapsed": false
   },
   "outputs": [
    {
     "data": {
      "text/plain": [
       "<riak.ts_object.TsObject at 0x7f8074cb1210>"
      ]
     },
     "execution_count": 6,
     "metadata": {},
     "output_type": "execute_result"
    }
   ],
   "source": [
    "myClient.ts_query('hvac2','DESCRIBE hvac2')"
   ]
  },
  {
   "cell_type": "code",
   "execution_count": 7,
   "metadata": {
    "collapsed": true
   },
   "outputs": [],
   "source": [
    "from riak.client import RiakClient"
   ]
  },
  {
   "cell_type": "code",
   "execution_count": 8,
   "metadata": {
    "collapsed": true
   },
   "outputs": [],
   "source": [
    "c=RiakClient(pb_port=8087, protocol='pbc')"
   ]
  },
  {
   "cell_type": "code",
   "execution_count": 9,
   "metadata": {
    "collapsed": false
   },
   "outputs": [
    {
     "data": {
      "text/plain": [
       "True"
      ]
     },
     "execution_count": 9,
     "metadata": {},
     "output_type": "execute_result"
    }
   ],
   "source": [
    "c.ping()"
   ]
  },
  {
   "cell_type": "code",
   "execution_count": 10,
   "metadata": {
    "collapsed": true
   },
   "outputs": [],
   "source": [
    "table=c.table('hvac30d')"
   ]
  },
  {
   "cell_type": "code",
   "execution_count": 11,
   "metadata": {
    "collapsed": false
   },
   "outputs": [
    {
     "name": "stdout",
     "output_type": "stream",
     "text": [
      "hvac30d\n"
     ]
    }
   ],
   "source": [
    "print table"
   ]
  },
  {
   "cell_type": "code",
   "execution_count": 12,
   "metadata": {
    "collapsed": true
   },
   "outputs": [],
   "source": [
    "import csv"
   ]
  },
  {
   "cell_type": "code",
   "execution_count": 13,
   "metadata": {
    "collapsed": false
   },
   "outputs": [
    {
     "name": "stdout",
     "output_type": "stream",
     "text": [
      "Store result:  True\n"
     ]
    }
   ],
   "source": [
    "drows=[]\n",
    "with open('HVAC-ms.csv','rU') as csvfile:\n",
    "    dreader=csv.reader(csvfile)\n",
    "    for r in dreader:\n",
    "        drows.append([str(r[5]),str(r[3]),int(r[0]),int(r[4]),int(r[1]),int(r[2])])\n",
    "    #for r2 in drows:\n",
    "    #    print r2\n",
    "    tso=table.new(drows)\n",
    "    print \"Store result: \",tso.store()\n",
    "        "
   ]
  },
  {
   "cell_type": "markdown",
   "metadata": {},
   "source": [
    "Table created with q=30 d.  Checked with riak-admin:\n",
    "hvac30d is active\n",
    "\n",
    "young_vclock: 20\n",
    "w: quorum\n",
    "small_vclock: 50\n",
    "rw: quorum\n",
    "r: quorum\n",
    "pw: 0\n",
    "precommit: []\n",
    "pr: 0\n",
    "postcommit: []\n",
    "old_vclock: 86400\n",
    "notfound_ok: true\n",
    "n_val: 3\n",
    "linkfun: {modfun,riak_kv_wm_link_walker,mapreduce_linkfun}\n",
    "last_write_wins: false\n",
    "dw: quorum\n",
    "dvv_enabled: true\n",
    "ddl: {ddl_v1,<<\"hvac30d\">>,\n",
    "             [{riak_field_v1,<<\"buildingid\">>,1,varchar,false},\n",
    "              {riak_field_v1,<<\"systemid\">>,2,varchar,false},\n",
    "              {riak_field_v1,<<\"readingtime\">>,3,timestamp,false},\n",
    "              {riak_field_v1,<<\"systemage\">>,4,sint64,false},\n",
    "              {riak_field_v1,<<\"targettemp\">>,5,sint64,false},\n",
    "              {riak_field_v1,<<\"actualtemp\">>,6,sint64,false}],\n",
    "             {key_v1,[{param_v1,[<<\"buildingid\">>]},\n",
    "                      {param_v1,[<<\"systemid\">>]},\n",
    "                      {hash_fn_v1,riak_ql_quanta,quantum,\n",
    "                                  [{param_v1,[<<\"readingtime\">>]},30,d],\n",
    "                                  timestamp}]},\n",
    "             {key_v1,[{param_v1,[<<\"buildingid\">>]},\n",
    "                      {param_v1,[<<\"systemid\">>]},\n",
    "                      {param_v1,[<<\"readingtime\">>]}]}}\n",
    "chash_keyfun: {riak_core_util,chash_std_keyfun}\n",
    "big_vclock: 50\n",
    "basic_quorum: false\n",
    "allow_mult: true\n",
    "write_once: true\n",
    "active: true\n",
    "claimant: 'riak@127.0.0.1'\n"
   ]
  },
  {
   "cell_type": "code",
   "execution_count": null,
   "metadata": {
    "collapsed": true
   },
   "outputs": [],
   "source": []
  }
 ],
 "metadata": {
  "kernelspec": {
   "display_name": "Python 2",
   "language": "python",
   "name": "python2"
  },
  "language_info": {
   "codemirror_mode": {
    "name": "ipython",
    "version": 2
   },
   "file_extension": ".py",
   "mimetype": "text/x-python",
   "name": "python",
   "nbconvert_exporter": "python",
   "pygments_lexer": "ipython2",
   "version": "2.7.6"
  }
 },
 "nbformat": 4,
 "nbformat_minor": 0
}
