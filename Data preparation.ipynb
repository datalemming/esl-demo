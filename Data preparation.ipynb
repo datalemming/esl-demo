{
 "cells": [
  {
   "cell_type": "markdown",
   "metadata": {},
   "source": [
    "Now need to format the date and time (fields 1 and 2 in the csv file) into a legitimate datetime object."
   ]
  },
  {
   "cell_type": "code",
   "execution_count": 14,
   "metadata": {
    "collapsed": false
   },
   "outputs": [
    {
     "name": "stdout",
     "output_type": "stream",
     "text": [
      "8000\n"
     ]
    }
   ],
   "source": [
    "from datetime import datetime\n",
    "import csv\n",
    "import string\n",
    "linecount=0\n",
    "outfile=open('HVAC-dt.csv','w')\n",
    "outwriter=csv.writer(outfile)\n",
    "with open('HVAC2.csv', 'rU') as csvfile:\n",
    "    dreader=csv.reader(csvfile)\n",
    "    for r in dreader:\n",
    "        #print r\n",
    "        sdate=r[0]\n",
    "        stime=r[1]\n",
    "        (smonth,sday,syear)=string.split(sdate,'/')\n",
    "        #print smonth,sday,syear\n",
    "        (shour,smin,ssec)=string.split(stime,':')\n",
    "        #print shour,smin,ssec\n",
    "        odate=datetime(int(syear)+2000,int(smonth),int(sday),int(shour),int(smin),int(ssec))\n",
    "        #print odate        \n",
    "        linecount=linecount+1\n",
    "        outwriter.writerow([odate,r[2],r[3],r[4],r[5],r[6]])\n",
    "    print linecount\n",
    "csvfile.close()\n",
    "outfile.close()"
   ]
  },
  {
   "cell_type": "code",
   "execution_count": null,
   "metadata": {
    "collapsed": true
   },
   "outputs": [],
   "source": []
  }
 ],
 "metadata": {
  "kernelspec": {
   "display_name": "Python 2",
   "language": "python",
   "name": "python2"
  },
  "language_info": {
   "codemirror_mode": {
    "name": "ipython",
    "version": 2
   },
   "file_extension": ".py",
   "mimetype": "text/x-python",
   "name": "python",
   "nbconvert_exporter": "python",
   "pygments_lexer": "ipython2",
   "version": "2.7.6"
  }
 },
 "nbformat": 4,
 "nbformat_minor": 0
}
