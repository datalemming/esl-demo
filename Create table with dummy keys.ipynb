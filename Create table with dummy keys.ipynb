{
 "cells": [
  {
   "cell_type": "markdown",
   "metadata": {},
   "source": [
    "To create the table in Riak for the HVAC data"
   ]
  },
  {
   "cell_type": "code",
   "execution_count": 19,
   "metadata": {
    "collapsed": false
   },
   "outputs": [],
   "source": [
    "from riak import RiakClient, RiakNode"
   ]
  },
  {
   "cell_type": "code",
   "execution_count": 20,
   "metadata": {
    "collapsed": false
   },
   "outputs": [],
   "source": [
    "myClient = RiakClient(pb_port=8087, protocol='pbc')"
   ]
  },
  {
   "cell_type": "code",
   "execution_count": 21,
   "metadata": {
    "collapsed": false
   },
   "outputs": [
    {
     "data": {
      "text/plain": [
       "True"
      ]
     },
     "execution_count": 21,
     "metadata": {},
     "output_type": "execute_result"
    }
   ],
   "source": [
    "myClient.ping()"
   ]
  },
  {
   "cell_type": "code",
   "execution_count": 22,
   "metadata": {
    "collapsed": true
   },
   "outputs": [],
   "source": [
    "#Create new table with the dummy fields, does order matter? - yes\n",
    "tbname=\"hvacnew3\"\n",
    "fmt=\"\"\"    \n",
    "    CREATE TABLE hvacnew3 (\n",
    "    family varchar not null,\n",
    "    series varchar not null,\n",
    "    readingtime timestamp not null,\n",
    "    buildingid sint64 not null,\n",
    "    systemid sint64 not null,\n",
    "    systemage sint64 not null,\n",
    "    targettemp sint64 not null,\n",
    "    actualtemp sint64 not null,\n",
    "    primary key ((family,series,quantum(readingtime,30,'d')),family,series,readingtime))\n",
    "\"\"\""
   ]
  },
  {
   "cell_type": "code",
   "execution_count": 23,
   "metadata": {
    "collapsed": false
   },
   "outputs": [
    {
     "data": {
      "text/plain": [
       "<riak.ts_object.TsObject at 0x7fd15670a4d0>"
      ]
     },
     "execution_count": 23,
     "metadata": {},
     "output_type": "execute_result"
    }
   ],
   "source": [
    "myClient.ts_query(tbname,fmt)"
   ]
  },
  {
   "cell_type": "code",
   "execution_count": 24,
   "metadata": {
    "collapsed": false
   },
   "outputs": [
    {
     "data": {
      "text/plain": [
       "<riak.ts_object.TsObject at 0x7fd156774e50>"
      ]
     },
     "execution_count": 24,
     "metadata": {},
     "output_type": "execute_result"
    }
   ],
   "source": [
    "myClient.ts_describe('hvacnew3')"
   ]
  },
  {
   "cell_type": "code",
   "execution_count": 25,
   "metadata": {
    "collapsed": false
   },
   "outputs": [
    {
     "name": "stdout",
     "output_type": "stream",
     "text": [
      "['family', 'varchar', False, 1L, 1L]\n",
      "['series', 'varchar', False, 2L, 2L]\n",
      "['readingtime', 'timestamp', False, 3L, 3L]\n",
      "['buildingid', 'sint64', False, None, None]\n",
      "['systemid', 'sint64', False, None, None]\n",
      "['systemage', 'sint64', False, None, None]\n",
      "['targettemp', 'sint64', False, None, None]\n",
      "['actualtemp', 'sint64', False, None, None]\n"
     ]
    }
   ],
   "source": [
    "for r in myClient.ts_describe('hvacnew3').rows:\n",
    "    print r"
   ]
  },
  {
   "cell_type": "code",
   "execution_count": 26,
   "metadata": {
    "collapsed": true
   },
   "outputs": [],
   "source": [
    "table=myClient.table('hvacnew3')"
   ]
  },
  {
   "cell_type": "code",
   "execution_count": 27,
   "metadata": {
    "collapsed": false
   },
   "outputs": [
    {
     "name": "stdout",
     "output_type": "stream",
     "text": [
      "hvacnew3\n"
     ]
    }
   ],
   "source": [
    "print table"
   ]
  },
  {
   "cell_type": "code",
   "execution_count": 28,
   "metadata": {
    "collapsed": true
   },
   "outputs": [],
   "source": [
    "import csv"
   ]
  },
  {
   "cell_type": "code",
   "execution_count": 29,
   "metadata": {
    "collapsed": false
   },
   "outputs": [
    {
     "name": "stdout",
     "output_type": "stream",
     "text": [
      "Store result:  True\n"
     ]
    }
   ],
   "source": [
    "drows=[]\n",
    "with open('HVAC-ms.csv','rU') as csvfile:\n",
    "    dreader=csv.reader(csvfile)\n",
    "    for r in dreader:\n",
    "        drows.append([str(r[6]),str(r[7]),int(r[0]),int(r[5]),int(r[3]),int(r[4]),int(r[1]),int(r[2])])\n",
    "    #for r2 in drows:\n",
    "    #    print r2\n",
    "    tso=table.new(drows)\n",
    "    print \"Store result: \",tso.store()        "
   ]
  }
 ],
 "metadata": {
  "kernelspec": {
   "display_name": "Python 2",
   "language": "python",
   "name": "python2"
  },
  "language_info": {
   "codemirror_mode": {
    "name": "ipython",
    "version": 2
   },
   "file_extension": ".py",
   "mimetype": "text/x-python",
   "name": "python",
   "nbconvert_exporter": "python",
   "pygments_lexer": "ipython2",
   "version": "2.7.6"
  }
 },
 "nbformat": 4,
 "nbformat_minor": 0
}
