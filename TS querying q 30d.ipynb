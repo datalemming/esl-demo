{
 "cells": [
  {
   "cell_type": "markdown",
   "metadata": {},
   "source": [
    "To query the hvac30d\n",
    "data"
   ]
  },
  {
   "cell_type": "code",
   "execution_count": 1,
   "metadata": {
    "collapsed": false
   },
   "outputs": [
    {
     "name": "stderr",
     "output_type": "stream",
     "text": [
      "/home/stephen/ESL/local/lib/python2.7/site-packages/riak/security.py:45: UserWarning: OpenSSL 1.0.1f 6 Jan 2014 (>= 1.0.1g required), TLS 1.2 support: False\n",
      "  warnings.warn(msg, UserWarning)\n"
     ]
    }
   ],
   "source": [
    "from riak import RiakClient, RiakNode"
   ]
  },
  {
   "cell_type": "code",
   "execution_count": 2,
   "metadata": {
    "collapsed": false
   },
   "outputs": [],
   "source": [
    "myClient = RiakClient(pb_port=8087, protocol='pbc')"
   ]
  },
  {
   "cell_type": "code",
   "execution_count": 3,
   "metadata": {
    "collapsed": false
   },
   "outputs": [
    {
     "data": {
      "text/plain": [
       "True"
      ]
     },
     "execution_count": 3,
     "metadata": {},
     "output_type": "execute_result"
    }
   ],
   "source": [
    "myClient.ping()"
   ]
  },
  {
   "cell_type": "code",
   "execution_count": 4,
   "metadata": {
    "collapsed": false
   },
   "outputs": [
    {
     "data": {
      "text/plain": [
       "<riak.ts_object.TsObject at 0x7f0902f2c810>"
      ]
     },
     "execution_count": 4,
     "metadata": {},
     "output_type": "execute_result"
    }
   ],
   "source": [
    "myClient.ts_describe('hvac30d')"
   ]
  },
  {
   "cell_type": "markdown",
   "metadata": {},
   "source": [
    "Preliminary data exploration using pandas to get max min values and ranges that can be queried."
   ]
  },
  {
   "cell_type": "code",
   "execution_count": 7,
   "metadata": {
    "collapsed": false
   },
   "outputs": [],
   "source": [
    "import pandas as pd"
   ]
  },
  {
   "cell_type": "code",
   "execution_count": 10,
   "metadata": {
    "collapsed": true
   },
   "outputs": [],
   "source": [
    "df1=[]\n",
    "df1=pd.read_csv('HVAC-ms-headings.csv')"
   ]
  },
  {
   "cell_type": "code",
   "execution_count": 11,
   "metadata": {
    "collapsed": false
   },
   "outputs": [
    {
     "data": {
      "text/html": [
       "<div>\n",
       "<table border=\"1\" class=\"dataframe\">\n",
       "  <thead>\n",
       "    <tr style=\"text-align: right;\">\n",
       "      <th></th>\n",
       "      <th>Timestamp</th>\n",
       "      <th>TargetTemp</th>\n",
       "      <th>ActualTemp</th>\n",
       "      <th>SysID</th>\n",
       "      <th>SysAge</th>\n",
       "      <th>BldgID</th>\n",
       "    </tr>\n",
       "  </thead>\n",
       "  <tbody>\n",
       "    <tr>\n",
       "      <th>count</th>\n",
       "      <td>8.000000e+03</td>\n",
       "      <td>8000.000000</td>\n",
       "      <td>8000.000000</td>\n",
       "      <td>8000.000000</td>\n",
       "      <td>8000.000000</td>\n",
       "      <td>8000.000000</td>\n",
       "    </tr>\n",
       "    <tr>\n",
       "      <th>mean</th>\n",
       "      <td>1.371339e+12</td>\n",
       "      <td>67.499625</td>\n",
       "      <td>67.636875</td>\n",
       "      <td>10.382125</td>\n",
       "      <td>15.349750</td>\n",
       "      <td>10.509000</td>\n",
       "    </tr>\n",
       "    <tr>\n",
       "      <th>std</th>\n",
       "      <td>7.481817e+08</td>\n",
       "      <td>1.708981</td>\n",
       "      <td>7.452010</td>\n",
       "      <td>5.731641</td>\n",
       "      <td>8.686173</td>\n",
       "      <td>5.770969</td>\n",
       "    </tr>\n",
       "    <tr>\n",
       "      <th>min</th>\n",
       "      <td>1.370045e+12</td>\n",
       "      <td>65.000000</td>\n",
       "      <td>55.000000</td>\n",
       "      <td>1.000000</td>\n",
       "      <td>1.000000</td>\n",
       "      <td>1.000000</td>\n",
       "    </tr>\n",
       "    <tr>\n",
       "      <th>25%</th>\n",
       "      <td>1.370691e+12</td>\n",
       "      <td>66.000000</td>\n",
       "      <td>61.000000</td>\n",
       "      <td>5.000000</td>\n",
       "      <td>8.000000</td>\n",
       "      <td>6.000000</td>\n",
       "    </tr>\n",
       "    <tr>\n",
       "      <th>50%</th>\n",
       "      <td>1.371339e+12</td>\n",
       "      <td>67.000000</td>\n",
       "      <td>68.000000</td>\n",
       "      <td>10.000000</td>\n",
       "      <td>15.000000</td>\n",
       "      <td>10.000000</td>\n",
       "    </tr>\n",
       "    <tr>\n",
       "      <th>75%</th>\n",
       "      <td>1.371986e+12</td>\n",
       "      <td>69.000000</td>\n",
       "      <td>74.000000</td>\n",
       "      <td>15.000000</td>\n",
       "      <td>23.000000</td>\n",
       "      <td>16.000000</td>\n",
       "    </tr>\n",
       "    <tr>\n",
       "      <th>max</th>\n",
       "      <td>1.372636e+12</td>\n",
       "      <td>70.000000</td>\n",
       "      <td>80.000000</td>\n",
       "      <td>20.000000</td>\n",
       "      <td>30.000000</td>\n",
       "      <td>20.000000</td>\n",
       "    </tr>\n",
       "  </tbody>\n",
       "</table>\n",
       "</div>"
      ],
      "text/plain": [
       "          Timestamp   TargetTemp   ActualTemp        SysID       SysAge  \\\n",
       "count  8.000000e+03  8000.000000  8000.000000  8000.000000  8000.000000   \n",
       "mean   1.371339e+12    67.499625    67.636875    10.382125    15.349750   \n",
       "std    7.481817e+08     1.708981     7.452010     5.731641     8.686173   \n",
       "min    1.370045e+12    65.000000    55.000000     1.000000     1.000000   \n",
       "25%    1.370691e+12    66.000000    61.000000     5.000000     8.000000   \n",
       "50%    1.371339e+12    67.000000    68.000000    10.000000    15.000000   \n",
       "75%    1.371986e+12    69.000000    74.000000    15.000000    23.000000   \n",
       "max    1.372636e+12    70.000000    80.000000    20.000000    30.000000   \n",
       "\n",
       "            BldgID  \n",
       "count  8000.000000  \n",
       "mean     10.509000  \n",
       "std       5.770969  \n",
       "min       1.000000  \n",
       "25%       6.000000  \n",
       "50%      10.000000  \n",
       "75%      16.000000  \n",
       "max      20.000000  "
      ]
     },
     "execution_count": 11,
     "metadata": {},
     "output_type": "execute_result"
    }
   ],
   "source": [
    "df1.describe()"
   ]
  },
  {
   "cell_type": "code",
   "execution_count": 5,
   "metadata": {
    "collapsed": false
   },
   "outputs": [
    {
     "name": "stdout",
     "output_type": "stream",
     "text": [
      "<riak.ts_object.TsObject object at 0x7f0902f53390>\n",
      "['1', '1', datetime.datetime(2013, 6, 1, 3, 33, 7), 7L, 67L, 62L]\n",
      "['1', '1', datetime.datetime(2013, 6, 1, 16, 45, 56), 6L, 68L, 69L]\n",
      "['1', '1', datetime.datetime(2013, 6, 2, 17, 0, 1), 29L, 68L, 63L]\n",
      "['1', '1', datetime.datetime(2013, 6, 7, 21, 13, 19), 27L, 66L, 62L]\n",
      "['1', '1', datetime.datetime(2013, 6, 8, 1, 13, 19), 3L, 70L, 60L]\n",
      "['1', '1', datetime.datetime(2013, 6, 11, 12, 43, 51), 20L, 69L, 77L]\n",
      "['1', '1', datetime.datetime(2013, 6, 14, 6, 43, 51), 8L, 69L, 78L]\n"
     ]
    }
   ],
   "source": [
    "#18 days worth\n",
    "qs=\"\"\"\n",
    "    select * from hvac30d WHERE  readingtime > 1370044800000 and readingtime < 1371600001000\n",
    "     and buildingid = '1' \n",
    "    and systemid= '1'\n",
    "\"\"\"\n",
    "ds=myClient.ts_query('hvac30d',qs)\n",
    "print ds\n",
    "for r in ds.rows:\n",
    "    print r\n"
   ]
  },
  {
   "cell_type": "code",
   "execution_count": 18,
   "metadata": {
    "collapsed": false
   },
   "outputs": [
    {
     "name": "stdout",
     "output_type": "stream",
     "text": [
      "<riak.ts_object.TsObject object at 0x7f0902cb0650>\n",
      "['2', '2', datetime.datetime(2013, 6, 1, 16, 43, 51), 15L, 66L, 76L]\n",
      "['2', '2', datetime.datetime(2013, 6, 1, 23, 0, 1), 13L, 67L, 56L]\n",
      "['2', '2', datetime.datetime(2013, 6, 2, 11, 33, 7), 22L, 66L, 77L]\n",
      "['2', '2', datetime.datetime(2013, 6, 6, 23, 43, 51), 9L, 66L, 78L]\n",
      "['2', '2', datetime.datetime(2013, 6, 7, 0, 13, 20), 12L, 67L, 80L]\n",
      "['2', '2', datetime.datetime(2013, 6, 8, 3, 13, 19), 13L, 65L, 68L]\n",
      "['2', '2', datetime.datetime(2013, 6, 9, 10, 45, 56), 29L, 65L, 71L]\n",
      "['2', '2', datetime.datetime(2013, 6, 9, 14, 13, 19), 17L, 67L, 68L]\n",
      "['2', '2', datetime.datetime(2013, 6, 11, 11, 13, 19), 3L, 66L, 60L]\n",
      "['2', '2', datetime.datetime(2013, 6, 12, 11, 43, 51), 20L, 65L, 73L]\n",
      "['2', '2', datetime.datetime(2013, 6, 14, 21, 45, 56), 22L, 70L, 76L]\n",
      "['2', '2', datetime.datetime(2013, 6, 16, 22, 43, 51), 15L, 70L, 77L]\n",
      "['2', '2', datetime.datetime(2013, 6, 17, 7, 33, 7), 11L, 66L, 75L]\n",
      "['2', '2', datetime.datetime(2013, 6, 17, 22, 13, 19), 4L, 67L, 73L]\n",
      "['2', '2', datetime.datetime(2013, 6, 18, 12, 45, 56), 9L, 68L, 76L]\n",
      "['2', '2', datetime.datetime(2013, 6, 19, 18, 0, 1), 27L, 68L, 66L]\n",
      "['2', '2', datetime.datetime(2013, 6, 22, 14, 43, 51), 12L, 67L, 76L]\n",
      "['2', '2', datetime.datetime(2013, 6, 22, 19, 33, 7), 8L, 66L, 58L]\n",
      "['2', '2', datetime.datetime(2013, 6, 24, 1, 13, 20), 4L, 69L, 56L]\n",
      "['2', '2', datetime.datetime(2013, 6, 24, 23, 0, 1), 22L, 69L, 79L]\n",
      "['2', '2', datetime.datetime(2013, 6, 25, 19, 43, 51), 12L, 66L, 74L]\n",
      "['2', '2', datetime.datetime(2013, 6, 27, 8, 13, 19), 12L, 66L, 65L]\n",
      "['2', '2', datetime.datetime(2013, 6, 28, 14, 33, 7), 4L, 70L, 78L]\n",
      "['2', '2', datetime.datetime(2013, 6, 29, 19, 43, 51), 21L, 67L, 59L]\n"
     ]
    }
   ],
   "source": [
    "#60 days worth\n",
    "qs=\"\"\"\n",
    "    select * from hvac30d WHERE  readingtime > 1370044800000 and readingtime < 1375228801000\n",
    "     and buildingid = '2' \n",
    "    and systemid= '2'\n",
    "\"\"\"\n",
    "ds=myClient.ts_query('hvac30d',qs)\n",
    "print ds\n",
    "#print ds.rows\n",
    "for r in ds.rows:\n",
    "    print r"
   ]
  },
  {
   "cell_type": "markdown",
   "metadata": {
    "collapsed": true
   },
   "source": [
    "System Age appears to be very anomalous, it looks like junk."
   ]
  },
  {
   "cell_type": "code",
   "execution_count": 22,
   "metadata": {
    "collapsed": false
   },
   "outputs": [
    {
     "name": "stdout",
     "output_type": "stream",
     "text": [
      "('Column', 0)\n",
      "('Type', 0)\n",
      "('Is Null', 4)\n",
      "('Primary Key', 1)\n",
      "('Local Key', 1)\n",
      "['buildingid', 'varchar', False, 1L, 1L]\n",
      "['systemid', 'varchar', False, 2L, 2L]\n",
      "['readingtime', 'timestamp', False, 3L, 3L]\n",
      "['systemage', 'sint64', False, None, None]\n",
      "['targettemp', 'sint64', False, None, None]\n",
      "['actualtemp', 'sint64', False, None, None]\n"
     ]
    }
   ],
   "source": [
    "td=myClient.ts_describe('hvac30d')\n",
    "for c in td.columns:\n",
    "    print c\n",
    "for r in td.rows:\n",
    "    print r"
   ]
  },
  {
   "cell_type": "code",
   "execution_count": 25,
   "metadata": {
    "collapsed": false
   },
   "outputs": [
    {
     "name": "stdout",
     "output_type": "stream",
     "text": [
      "6\n"
     ]
    }
   ],
   "source": [
    "print len(td.rows)"
   ]
  },
  {
   "cell_type": "code",
   "execution_count": 28,
   "metadata": {
    "collapsed": false
   },
   "outputs": [
    {
     "name": "stdout",
     "output_type": "stream",
     "text": [
      "<riak.ts_object.TsObject object at 0x7f0902f53550>\n",
      "[[24L]]\n",
      "[24L]\n"
     ]
    }
   ],
   "source": [
    "qs=\"\"\"\n",
    "    select COUNT(*) from hvac30d WHERE  readingtime > 1370044800000 and readingtime < 1375228801000\n",
    "     and buildingid = '2' \n",
    "    and systemid= '2'\n",
    "\"\"\"\n",
    "ds=myClient.ts_query('hvac30d',qs)\n",
    "print ds\n",
    "print ds.rows\n",
    "for r in ds.rows:\n",
    "    print r"
   ]
  },
  {
   "cell_type": "code",
   "execution_count": 36,
   "metadata": {
    "collapsed": false
   },
   "outputs": [
    {
     "ename": "RiakError",
     "evalue": "'incomplete_where_clause: Neither upper or lower time bounds were specified in the query.'",
     "output_type": "error",
     "traceback": [
      "\u001b[1;31m---------------------------------------------------------------------------\u001b[0m",
      "\u001b[1;31mRiakError\u001b[0m                                 Traceback (most recent call last)",
      "\u001b[1;32m<ipython-input-36-b21a590c2d2b>\u001b[0m in \u001b[0;36m<module>\u001b[1;34m()\u001b[0m\n\u001b[0;32m      8\u001b[0m      \u001b[1;32mand\u001b[0m \u001b[0msystemid\u001b[0m\u001b[1;33m=\u001b[0m\u001b[1;34m'2'\u001b[0m\u001b[1;33m\u001b[0m\u001b[0m\n\u001b[0;32m      9\u001b[0m \"\"\"\n\u001b[1;32m---> 10\u001b[1;33m \u001b[0mds\u001b[0m\u001b[1;33m=\u001b[0m\u001b[0mmyClient\u001b[0m\u001b[1;33m.\u001b[0m\u001b[0mts_query\u001b[0m\u001b[1;33m(\u001b[0m\u001b[1;34m'hvac30d'\u001b[0m\u001b[1;33m,\u001b[0m\u001b[0mqs\u001b[0m\u001b[1;33m)\u001b[0m\u001b[1;33m\u001b[0m\u001b[0m\n\u001b[0m\u001b[0;32m     11\u001b[0m \u001b[1;32mprint\u001b[0m \u001b[0mds\u001b[0m\u001b[1;33m\u001b[0m\u001b[0m\n\u001b[0;32m     12\u001b[0m \u001b[1;32mprint\u001b[0m \u001b[0mds\u001b[0m\u001b[1;33m.\u001b[0m\u001b[0mrows\u001b[0m\u001b[1;33m\u001b[0m\u001b[0m\n",
      "\u001b[1;32m/home/stephen/ESL/local/lib/python2.7/site-packages/riak/client/transport.pyc\u001b[0m in \u001b[0;36mwrapper\u001b[1;34m(self, *args, **kwargs)\u001b[0m\n\u001b[0;32m    194\u001b[0m             \u001b[1;32mreturn\u001b[0m \u001b[0mfn\u001b[0m\u001b[1;33m(\u001b[0m\u001b[0mself\u001b[0m\u001b[1;33m,\u001b[0m \u001b[0mtransport\u001b[0m\u001b[1;33m,\u001b[0m \u001b[1;33m*\u001b[0m\u001b[0margs\u001b[0m\u001b[1;33m,\u001b[0m \u001b[1;33m**\u001b[0m\u001b[0mkwargs\u001b[0m\u001b[1;33m)\u001b[0m\u001b[1;33m\u001b[0m\u001b[0m\n\u001b[0;32m    195\u001b[0m \u001b[1;33m\u001b[0m\u001b[0m\n\u001b[1;32m--> 196\u001b[1;33m         \u001b[1;32mreturn\u001b[0m \u001b[0mself\u001b[0m\u001b[1;33m.\u001b[0m\u001b[0m_with_retries\u001b[0m\u001b[1;33m(\u001b[0m\u001b[0mpool\u001b[0m\u001b[1;33m,\u001b[0m \u001b[0mthunk\u001b[0m\u001b[1;33m)\u001b[0m\u001b[1;33m\u001b[0m\u001b[0m\n\u001b[0m\u001b[0;32m    197\u001b[0m \u001b[1;33m\u001b[0m\u001b[0m\n\u001b[0;32m    198\u001b[0m     \u001b[0mwrapper\u001b[0m\u001b[1;33m.\u001b[0m\u001b[0m__doc__\u001b[0m \u001b[1;33m=\u001b[0m \u001b[0mfn\u001b[0m\u001b[1;33m.\u001b[0m\u001b[0m__doc__\u001b[0m\u001b[1;33m\u001b[0m\u001b[0m\n",
      "\u001b[1;32m/home/stephen/ESL/local/lib/python2.7/site-packages/riak/client/transport.pyc\u001b[0m in \u001b[0;36m_with_retries\u001b[1;34m(self, pool, fn)\u001b[0m\n\u001b[0;32m    136\u001b[0m                 \u001b[1;32mwith\u001b[0m \u001b[0mpool\u001b[0m\u001b[1;33m.\u001b[0m\u001b[0mtransaction\u001b[0m\u001b[1;33m(\u001b[0m\u001b[0m_filter\u001b[0m\u001b[1;33m=\u001b[0m\u001b[0m_skip_bad_nodes\u001b[0m\u001b[1;33m)\u001b[0m \u001b[1;32mas\u001b[0m \u001b[0mtransport\u001b[0m\u001b[1;33m:\u001b[0m\u001b[1;33m\u001b[0m\u001b[0m\n\u001b[0;32m    137\u001b[0m                     \u001b[1;32mtry\u001b[0m\u001b[1;33m:\u001b[0m\u001b[1;33m\u001b[0m\u001b[0m\n\u001b[1;32m--> 138\u001b[1;33m                         \u001b[1;32mreturn\u001b[0m \u001b[0mfn\u001b[0m\u001b[1;33m(\u001b[0m\u001b[0mtransport\u001b[0m\u001b[1;33m)\u001b[0m\u001b[1;33m\u001b[0m\u001b[0m\n\u001b[0m\u001b[0;32m    139\u001b[0m                     \u001b[1;32mexcept\u001b[0m \u001b[1;33m(\u001b[0m\u001b[0mIOError\u001b[0m\u001b[1;33m,\u001b[0m \u001b[0mHTTPException\u001b[0m\u001b[1;33m)\u001b[0m \u001b[1;32mas\u001b[0m \u001b[0me\u001b[0m\u001b[1;33m:\u001b[0m\u001b[1;33m\u001b[0m\u001b[0m\n\u001b[0;32m    140\u001b[0m                         \u001b[1;32mif\u001b[0m \u001b[0m_is_retryable\u001b[0m\u001b[1;33m(\u001b[0m\u001b[0me\u001b[0m\u001b[1;33m)\u001b[0m\u001b[1;33m:\u001b[0m\u001b[1;33m\u001b[0m\u001b[0m\n",
      "\u001b[1;32m/home/stephen/ESL/local/lib/python2.7/site-packages/riak/client/transport.pyc\u001b[0m in \u001b[0;36mthunk\u001b[1;34m(transport)\u001b[0m\n\u001b[0;32m    192\u001b[0m \u001b[1;33m\u001b[0m\u001b[0m\n\u001b[0;32m    193\u001b[0m         \u001b[1;32mdef\u001b[0m \u001b[0mthunk\u001b[0m\u001b[1;33m(\u001b[0m\u001b[0mtransport\u001b[0m\u001b[1;33m)\u001b[0m\u001b[1;33m:\u001b[0m\u001b[1;33m\u001b[0m\u001b[0m\n\u001b[1;32m--> 194\u001b[1;33m             \u001b[1;32mreturn\u001b[0m \u001b[0mfn\u001b[0m\u001b[1;33m(\u001b[0m\u001b[0mself\u001b[0m\u001b[1;33m,\u001b[0m \u001b[0mtransport\u001b[0m\u001b[1;33m,\u001b[0m \u001b[1;33m*\u001b[0m\u001b[0margs\u001b[0m\u001b[1;33m,\u001b[0m \u001b[1;33m**\u001b[0m\u001b[0mkwargs\u001b[0m\u001b[1;33m)\u001b[0m\u001b[1;33m\u001b[0m\u001b[0m\n\u001b[0m\u001b[0;32m    195\u001b[0m \u001b[1;33m\u001b[0m\u001b[0m\n\u001b[0;32m    196\u001b[0m         \u001b[1;32mreturn\u001b[0m \u001b[0mself\u001b[0m\u001b[1;33m.\u001b[0m\u001b[0m_with_retries\u001b[0m\u001b[1;33m(\u001b[0m\u001b[0mpool\u001b[0m\u001b[1;33m,\u001b[0m \u001b[0mthunk\u001b[0m\u001b[1;33m)\u001b[0m\u001b[1;33m\u001b[0m\u001b[0m\n",
      "\u001b[1;32m/home/stephen/ESL/local/lib/python2.7/site-packages/riak/client/operations.pyc\u001b[0m in \u001b[0;36mts_query\u001b[1;34m(self, transport, table, query, interpolations)\u001b[0m\n\u001b[0;32m    633\u001b[0m         \u001b[1;32mif\u001b[0m \u001b[0misinstance\u001b[0m\u001b[1;33m(\u001b[0m\u001b[0mt\u001b[0m\u001b[1;33m,\u001b[0m \u001b[0mstring_types\u001b[0m\u001b[1;33m)\u001b[0m\u001b[1;33m:\u001b[0m\u001b[1;33m\u001b[0m\u001b[0m\n\u001b[0;32m    634\u001b[0m             \u001b[0mt\u001b[0m \u001b[1;33m=\u001b[0m \u001b[0mTable\u001b[0m\u001b[1;33m(\u001b[0m\u001b[0mself\u001b[0m\u001b[1;33m,\u001b[0m \u001b[0mtable\u001b[0m\u001b[1;33m)\u001b[0m\u001b[1;33m\u001b[0m\u001b[0m\n\u001b[1;32m--> 635\u001b[1;33m         \u001b[1;32mreturn\u001b[0m \u001b[0mtransport\u001b[0m\u001b[1;33m.\u001b[0m\u001b[0mts_query\u001b[0m\u001b[1;33m(\u001b[0m\u001b[0mt\u001b[0m\u001b[1;33m,\u001b[0m \u001b[0mquery\u001b[0m\u001b[1;33m,\u001b[0m \u001b[0minterpolations\u001b[0m\u001b[1;33m)\u001b[0m\u001b[1;33m\u001b[0m\u001b[0m\n\u001b[0m\u001b[0;32m    636\u001b[0m \u001b[1;33m\u001b[0m\u001b[0m\n\u001b[0;32m    637\u001b[0m     \u001b[1;32mdef\u001b[0m \u001b[0mts_stream_keys\u001b[0m\u001b[1;33m(\u001b[0m\u001b[0mself\u001b[0m\u001b[1;33m,\u001b[0m \u001b[0mtable\u001b[0m\u001b[1;33m,\u001b[0m \u001b[0mtimeout\u001b[0m\u001b[1;33m=\u001b[0m\u001b[0mNone\u001b[0m\u001b[1;33m)\u001b[0m\u001b[1;33m:\u001b[0m\u001b[1;33m\u001b[0m\u001b[0m\n",
      "\u001b[1;32m/home/stephen/ESL/local/lib/python2.7/site-packages/riak/transports/pbc/transport.pyc\u001b[0m in \u001b[0;36mts_query\u001b[1;34m(self, table, query, interpolations)\u001b[0m\n\u001b[0;32m    227\u001b[0m         msg_code, ts_query_resp = self._request(\n\u001b[0;32m    228\u001b[0m             \u001b[0mriak\u001b[0m\u001b[1;33m.\u001b[0m\u001b[0mpb\u001b[0m\u001b[1;33m.\u001b[0m\u001b[0mmessages\u001b[0m\u001b[1;33m.\u001b[0m\u001b[0mMSG_CODE_TS_QUERY_REQ\u001b[0m\u001b[1;33m,\u001b[0m \u001b[0mreq\u001b[0m\u001b[1;33m,\u001b[0m\u001b[1;33m\u001b[0m\u001b[0m\n\u001b[1;32m--> 229\u001b[1;33m             riak.pb.messages.MSG_CODE_TS_QUERY_RESP)\n\u001b[0m\u001b[0;32m    230\u001b[0m \u001b[1;33m\u001b[0m\u001b[0m\n\u001b[0;32m    231\u001b[0m         \u001b[0mtsobj\u001b[0m \u001b[1;33m=\u001b[0m \u001b[0mTsObject\u001b[0m\u001b[1;33m(\u001b[0m\u001b[0mself\u001b[0m\u001b[1;33m.\u001b[0m\u001b[0m_client\u001b[0m\u001b[1;33m,\u001b[0m \u001b[0mtable\u001b[0m\u001b[1;33m,\u001b[0m \u001b[1;33m[\u001b[0m\u001b[1;33m]\u001b[0m\u001b[1;33m,\u001b[0m \u001b[1;33m[\u001b[0m\u001b[1;33m]\u001b[0m\u001b[1;33m)\u001b[0m\u001b[1;33m\u001b[0m\u001b[0m\n",
      "\u001b[1;32m/home/stephen/ESL/local/lib/python2.7/site-packages/riak/transports/pbc/connection.pyc\u001b[0m in \u001b[0;36m_request\u001b[1;34m(self, msg_code, msg, expect)\u001b[0m\n\u001b[0;32m     32\u001b[0m     \u001b[1;32mdef\u001b[0m \u001b[0m_request\u001b[0m\u001b[1;33m(\u001b[0m\u001b[0mself\u001b[0m\u001b[1;33m,\u001b[0m \u001b[0mmsg_code\u001b[0m\u001b[1;33m,\u001b[0m \u001b[0mmsg\u001b[0m\u001b[1;33m=\u001b[0m\u001b[0mNone\u001b[0m\u001b[1;33m,\u001b[0m \u001b[0mexpect\u001b[0m\u001b[1;33m=\u001b[0m\u001b[0mNone\u001b[0m\u001b[1;33m)\u001b[0m\u001b[1;33m:\u001b[0m\u001b[1;33m\u001b[0m\u001b[0m\n\u001b[0;32m     33\u001b[0m         \u001b[0mself\u001b[0m\u001b[1;33m.\u001b[0m\u001b[0m_send_msg\u001b[0m\u001b[1;33m(\u001b[0m\u001b[0mmsg_code\u001b[0m\u001b[1;33m,\u001b[0m \u001b[0mmsg\u001b[0m\u001b[1;33m)\u001b[0m\u001b[1;33m\u001b[0m\u001b[0m\n\u001b[1;32m---> 34\u001b[1;33m         \u001b[1;32mreturn\u001b[0m \u001b[0mself\u001b[0m\u001b[1;33m.\u001b[0m\u001b[0m_recv_msg\u001b[0m\u001b[1;33m(\u001b[0m\u001b[0mexpect\u001b[0m\u001b[1;33m)\u001b[0m\u001b[1;33m\u001b[0m\u001b[0m\n\u001b[0m\u001b[0;32m     35\u001b[0m \u001b[1;33m\u001b[0m\u001b[0m\n\u001b[0;32m     36\u001b[0m     \u001b[1;32mdef\u001b[0m \u001b[0m_non_connect_request\u001b[0m\u001b[1;33m(\u001b[0m\u001b[0mself\u001b[0m\u001b[1;33m,\u001b[0m \u001b[0mmsg_code\u001b[0m\u001b[1;33m,\u001b[0m \u001b[0mmsg\u001b[0m\u001b[1;33m=\u001b[0m\u001b[0mNone\u001b[0m\u001b[1;33m,\u001b[0m \u001b[0mexpect\u001b[0m\u001b[1;33m=\u001b[0m\u001b[0mNone\u001b[0m\u001b[1;33m)\u001b[0m\u001b[1;33m:\u001b[0m\u001b[1;33m\u001b[0m\u001b[0m\n",
      "\u001b[1;32m/home/stephen/ESL/local/lib/python2.7/site-packages/riak/transports/pbc/connection.pyc\u001b[0m in \u001b[0;36m_recv_msg\u001b[1;34m(self, expect)\u001b[0m\n\u001b[0;32m    160\u001b[0m                 \u001b[1;32mraise\u001b[0m \u001b[0mRiakError\u001b[0m\u001b[1;33m(\u001b[0m\u001b[1;34m'no error provided!'\u001b[0m\u001b[1;33m)\u001b[0m\u001b[1;33m\u001b[0m\u001b[0m\n\u001b[0;32m    161\u001b[0m             \u001b[1;32melse\u001b[0m\u001b[1;33m:\u001b[0m\u001b[1;33m\u001b[0m\u001b[0m\n\u001b[1;32m--> 162\u001b[1;33m                 \u001b[1;32mraise\u001b[0m \u001b[0mRiakError\u001b[0m\u001b[1;33m(\u001b[0m\u001b[0mbytes_to_str\u001b[0m\u001b[1;33m(\u001b[0m\u001b[0merr\u001b[0m\u001b[1;33m.\u001b[0m\u001b[0merrmsg\u001b[0m\u001b[1;33m)\u001b[0m\u001b[1;33m)\u001b[0m\u001b[1;33m\u001b[0m\u001b[0m\n\u001b[0m\u001b[0;32m    163\u001b[0m         \u001b[1;32melif\u001b[0m \u001b[0mmsg_code\u001b[0m \u001b[1;32min\u001b[0m \u001b[0mriak\u001b[0m\u001b[1;33m.\u001b[0m\u001b[0mpb\u001b[0m\u001b[1;33m.\u001b[0m\u001b[0mmessages\u001b[0m\u001b[1;33m.\u001b[0m\u001b[0mMESSAGE_CLASSES\u001b[0m\u001b[1;33m:\u001b[0m\u001b[1;33m\u001b[0m\u001b[0m\n\u001b[0;32m    164\u001b[0m             \u001b[0mmsg\u001b[0m \u001b[1;33m=\u001b[0m \u001b[0mself\u001b[0m\u001b[1;33m.\u001b[0m\u001b[0m_parse_msg\u001b[0m\u001b[1;33m(\u001b[0m\u001b[0mmsg_code\u001b[0m\u001b[1;33m,\u001b[0m \u001b[0mself\u001b[0m\u001b[1;33m.\u001b[0m\u001b[0m_inbuf\u001b[0m\u001b[1;33m[\u001b[0m\u001b[1;36m1\u001b[0m\u001b[1;33m:\u001b[0m\u001b[1;33m]\u001b[0m\u001b[1;33m)\u001b[0m\u001b[1;33m\u001b[0m\u001b[0m\n",
      "\u001b[1;31mRiakError\u001b[0m: 'incomplete_where_clause: Neither upper or lower time bounds were specified in the query.'"
     ]
    }
   ],
   "source": [
    "qs=\"\"\"\n",
    "    select * from hvac30d WHERE  readingtime > 1370044800000 and readingtime < 1375228801000\n",
    "     and buildingid = '2' \n",
    "    and systemid= '3' \n",
    "    or \n",
    "    readingtime > 1370044800000 and readingtime < 1375228801000\n",
    "     and buildingid = '2' \n",
    "     and systemid='2'\n",
    "\"\"\"\n",
    "ds=myClient.ts_query('hvac30d',qs)\n",
    "print ds\n",
    "print ds.rows\n",
    "for r in ds.rows:\n",
    "    print r"
   ]
  },
  {
   "cell_type": "code",
   "execution_count": null,
   "metadata": {
    "collapsed": true
   },
   "outputs": [],
   "source": []
  }
 ],
 "metadata": {
  "kernelspec": {
   "display_name": "Python 2",
   "language": "python",
   "name": "python2"
  },
  "language_info": {
   "codemirror_mode": {
    "name": "ipython",
    "version": 2
   },
   "file_extension": ".py",
   "mimetype": "text/x-python",
   "name": "python",
   "nbconvert_exporter": "python",
   "pygments_lexer": "ipython2",
   "version": "2.7.6"
  }
 },
 "nbformat": 4,
 "nbformat_minor": 0
}
