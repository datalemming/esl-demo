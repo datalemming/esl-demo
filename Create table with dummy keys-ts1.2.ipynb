{
 "cells": [
  {
   "cell_type": "markdown",
   "metadata": {},
   "source": [
    "To create the table in Riak for the HVAC data.  After experimentation, a quantum of 30 days was chosen.  Dummy key fields of 'Family' and 'Series' were added to allow filtering on buildingid and systemid as secondary query fields.  This should be changed in TS 1.3"
   ]
  },
  {
   "cell_type": "code",
   "execution_count": 1,
   "metadata": {
    "collapsed": false
   },
   "outputs": [
    {
     "name": "stderr",
     "output_type": "stream",
     "text": [
      "/home/stephen/ESL/local/lib/python2.7/site-packages/riak/security.py:45: UserWarning: OpenSSL 1.0.1f 6 Jan 2014 (>= 1.0.1g required), TLS 1.2 support: False\n",
      "  warnings.warn(msg, UserWarning)\n"
     ]
    }
   ],
   "source": [
    "from riak import RiakClient, RiakNode"
   ]
  },
  {
   "cell_type": "code",
   "execution_count": 2,
   "metadata": {
    "collapsed": false
   },
   "outputs": [],
   "source": [
    "myClient = RiakClient(pb_port=8087, protocol='pbc')"
   ]
  },
  {
   "cell_type": "code",
   "execution_count": 3,
   "metadata": {
    "collapsed": false
   },
   "outputs": [
    {
     "data": {
      "text/plain": [
       "True"
      ]
     },
     "execution_count": 3,
     "metadata": {},
     "output_type": "execute_result"
    }
   ],
   "source": [
    "myClient.ping() #test connection open"
   ]
  },
  {
   "cell_type": "code",
   "execution_count": 5,
   "metadata": {
    "collapsed": false
   },
   "outputs": [
    {
     "ename": "NameError",
     "evalue": "name 'MyClient' is not defined",
     "output_type": "error",
     "traceback": [
      "\u001b[1;31m---------------------------------------------------------------------------\u001b[0m",
      "\u001b[1;31mNameError\u001b[0m                                 Traceback (most recent call last)",
      "\u001b[1;32m<ipython-input-5-8941714f3488>\u001b[0m in \u001b[0;36m<module>\u001b[1;34m()\u001b[0m\n\u001b[1;32m----> 1\u001b[1;33m \u001b[0mt\u001b[0m\u001b[1;33m=\u001b[0m\u001b[0mMyClient\u001b[0m\u001b[1;33m.\u001b[0m\u001b[0mtable\u001b[0m\u001b[1;33m(\u001b[0m\u001b[1;34m\"\"\u001b[0m\u001b[1;33m)\u001b[0m\u001b[1;33m\u001b[0m\u001b[0m\n\u001b[0m",
      "\u001b[1;31mNameError\u001b[0m: name 'MyClient' is not defined"
     ]
    }
   ],
   "source": [
    "t=MyClient.table(\"\")"
   ]
  },
  {
   "cell_type": "code",
   "execution_count": null,
   "metadata": {
    "collapsed": true
   },
   "outputs": [],
   "source": []
  },
  {
   "cell_type": "code",
   "execution_count": 6,
   "metadata": {
    "collapsed": true
   },
   "outputs": [],
   "source": [
    "#Create new table with the dummy fields, does order matter? - yes, must have family, series, readingtime IN ORDER\n",
    "tbname=\"hvacnew3\"\n",
    "fmt=\"\"\"    \n",
    "    CREATE TABLE hvacnew3 (\n",
    "    family varchar not null,\n",
    "    series varchar not null,\n",
    "    readingtime timestamp not null,\n",
    "    buildingid sint64 not null,\n",
    "    systemid sint64 not null,\n",
    "    systemage sint64 not null,\n",
    "    targettemp sint64 not null,\n",
    "    actualtemp sint64 not null,\n",
    "    primary key ((family,series,quantum(readingtime,30,'d')),family,series,readingtime))\n",
    "\"\"\""
   ]
  },
  {
   "cell_type": "code",
   "execution_count": 7,
   "metadata": {
    "collapsed": false
   },
   "outputs": [
    {
     "data": {
      "text/plain": [
       "<riak.ts_object.TsObject at 0x7f889c22ab10>"
      ]
     },
     "execution_count": 7,
     "metadata": {},
     "output_type": "execute_result"
    }
   ],
   "source": [
    "myClient.ts_query(tbname,fmt)"
   ]
  },
  {
   "cell_type": "code",
   "execution_count": 8,
   "metadata": {
    "collapsed": false
   },
   "outputs": [
    {
     "data": {
      "text/plain": [
       "<riak.ts_object.TsObject at 0x7f889c47f950>"
      ]
     },
     "execution_count": 8,
     "metadata": {},
     "output_type": "execute_result"
    }
   ],
   "source": [
    "myClient.ts_describe('hvacnew3') #gives a ts_object to get at details need to access the rows property"
   ]
  },
  {
   "cell_type": "code",
   "execution_count": 9,
   "metadata": {
    "collapsed": false
   },
   "outputs": [
    {
     "name": "stdout",
     "output_type": "stream",
     "text": [
      "['family', 'varchar', False, 1L, 1L]\n",
      "['series', 'varchar', False, 2L, 2L]\n",
      "['readingtime', 'timestamp', False, 3L, 3L]\n",
      "['buildingid', 'sint64', False, None, None]\n",
      "['systemid', 'sint64', False, None, None]\n",
      "['systemage', 'sint64', False, None, None]\n",
      "['targettemp', 'sint64', False, None, None]\n",
      "['actualtemp', 'sint64', False, None, None]\n"
     ]
    }
   ],
   "source": [
    "for r in myClient.ts_describe('hvacnew3').rows:\n",
    "    print r"
   ]
  },
  {
   "cell_type": "code",
   "execution_count": 10,
   "metadata": {
    "collapsed": true
   },
   "outputs": [],
   "source": [
    "table=myClient.table('hvacnew3') #set the table"
   ]
  },
  {
   "cell_type": "code",
   "execution_count": 11,
   "metadata": {
    "collapsed": false
   },
   "outputs": [
    {
     "name": "stdout",
     "output_type": "stream",
     "text": [
      "hvacnew3\n"
     ]
    }
   ],
   "source": [
    "print table"
   ]
  },
  {
   "cell_type": "code",
   "execution_count": 13,
   "metadata": {
    "collapsed": true
   },
   "outputs": [],
   "source": [
    "import csv #source data is CSV so need lib to access it efficiently"
   ]
  },
  {
   "cell_type": "code",
   "execution_count": 14,
   "metadata": {
    "collapsed": false
   },
   "outputs": [
    {
     "name": "stdout",
     "output_type": "stream",
     "text": [
      "Store result:  True\n"
     ]
    }
   ],
   "source": [
    "#Creation of rows and storing in one operation.  Per documentation should be OK for maybe 10k rows\n",
    "drows=[]\n",
    "with open('HVAC-ms.csv','rU') as csvfile:\n",
    "    dreader=csv.reader(csvfile)\n",
    "    for r in dreader:\n",
    "        drows.append([str(r[6]),str(r[7]),int(r[0]),int(r[5]),int(r[3]),int(r[4]),int(r[1]),int(r[2])])\n",
    "    #for r2 in drows:\n",
    "    #    print r2\n",
    "    tso=table.new(drows)\n",
    "    print \"Store result: \",tso.store()        "
   ]
  },
  {
   "cell_type": "code",
   "execution_count": null,
   "metadata": {
    "collapsed": true
   },
   "outputs": [],
   "source": []
  }
 ],
 "metadata": {
  "kernelspec": {
   "display_name": "Python 2",
   "language": "python",
   "name": "python2"
  },
  "language_info": {
   "codemirror_mode": {
    "name": "ipython",
    "version": 2
   },
   "file_extension": ".py",
   "mimetype": "text/x-python",
   "name": "python",
   "nbconvert_exporter": "python",
   "pygments_lexer": "ipython2",
   "version": "2.7.6"
  }
 },
 "nbformat": 4,
 "nbformat_minor": 0
}
