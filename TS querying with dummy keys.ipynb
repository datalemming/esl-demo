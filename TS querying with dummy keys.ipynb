{
 "cells": [
  {
   "cell_type": "markdown",
   "metadata": {
    "collapsed": true
   },
   "source": [
    "To query the hvacnew3\n",
    "data"
   ]
  },
  {
   "cell_type": "code",
   "execution_count": 2,
   "metadata": {
    "collapsed": false
   },
   "outputs": [
    {
     "name": "stderr",
     "output_type": "stream",
     "text": [
      "/home/stephen/ESL/local/lib/python2.7/site-packages/riak/security.py:45: UserWarning: OpenSSL 1.0.1f 6 Jan 2014 (>= 1.0.1g required), TLS 1.2 support: False\n",
      "  warnings.warn(msg, UserWarning)\n"
     ]
    }
   ],
   "source": [
    "from riak import RiakClient, RiakNode"
   ]
  },
  {
   "cell_type": "code",
   "execution_count": 3,
   "metadata": {
    "collapsed": false
   },
   "outputs": [],
   "source": [
    "myClient = RiakClient(pb_port=8087, protocol='pbc')"
   ]
  },
  {
   "cell_type": "code",
   "execution_count": 4,
   "metadata": {
    "collapsed": false
   },
   "outputs": [
    {
     "data": {
      "text/plain": [
       "True"
      ]
     },
     "execution_count": 4,
     "metadata": {},
     "output_type": "execute_result"
    }
   ],
   "source": [
    "myClient.ping()"
   ]
  },
  {
   "cell_type": "code",
   "execution_count": 5,
   "metadata": {
    "collapsed": false
   },
   "outputs": [
    {
     "data": {
      "text/plain": [
       "<riak.ts_object.TsObject at 0x7f1224dfea10>"
      ]
     },
     "execution_count": 5,
     "metadata": {},
     "output_type": "execute_result"
    }
   ],
   "source": [
    "myClient.ts_describe('hvacnew3')"
   ]
  },
  {
   "cell_type": "code",
   "execution_count": 7,
   "metadata": {
    "collapsed": false
   },
   "outputs": [
    {
     "name": "stdout",
     "output_type": "stream",
     "text": [
      "<riak.ts_object.TsObject object at 0x7f1224dfebd0>\n",
      "['Family', 'Series', datetime.datetime(2013, 6, 1, 0, 0, 1), 12L, 18L, 8L, 69L, 58L]\n",
      "['Family', 'Series', datetime.datetime(2013, 6, 1, 0, 33, 7), 5L, 5L, 19L, 65L, 69L]\n",
      "['Family', 'Series', datetime.datetime(2013, 6, 1, 0, 43, 51), 8L, 10L, 19L, 70L, 72L]\n",
      "['Family', 'Series', datetime.datetime(2013, 6, 1, 0, 45, 56), 16L, 18L, 20L, 70L, 66L]\n",
      "['Family', 'Series', datetime.datetime(2013, 6, 1, 1, 13, 19), 8L, 14L, 26L, 65L, 58L]\n",
      "['Family', 'Series', datetime.datetime(2013, 6, 1, 1, 13, 20), 16L, 12L, 4L, 66L, 67L]\n",
      "['Family', 'Series', datetime.datetime(2013, 6, 1, 1, 45, 56), 6L, 5L, 5L, 70L, 60L]\n",
      "['Family', 'Series', datetime.datetime(2013, 6, 1, 2, 0, 1), 5L, 12L, 21L, 65L, 60L]\n",
      "['Family', 'Series', datetime.datetime(2013, 6, 1, 2, 43, 51), 5L, 12L, 25L, 68L, 68L]\n",
      "['Family', 'Series', datetime.datetime(2013, 6, 1, 2, 45, 56), 7L, 5L, 24L, 70L, 78L]\n",
      "['Family', 'Series', datetime.datetime(2013, 6, 1, 3, 13, 19), 14L, 3L, 7L, 70L, 71L]\n",
      "['Family', 'Series', datetime.datetime(2013, 6, 1, 3, 33, 7), 2L, 13L, 19L, 68L, 76L]\n",
      "['Family', 'Series', datetime.datetime(2013, 6, 1, 3, 45, 56), 17L, 6L, 30L, 65L, 68L]\n",
      "['Family', 'Series', datetime.datetime(2013, 6, 1, 4, 0, 1), 7L, 1L, 8L, 69L, 73L]\n",
      "['Family', 'Series', datetime.datetime(2013, 6, 1, 4, 13, 20), 19L, 9L, 15L, 66L, 62L]\n",
      "['Family', 'Series', datetime.datetime(2013, 6, 1, 4, 43, 51), 11L, 6L, 30L, 69L, 77L]\n",
      "['Family', 'Series', datetime.datetime(2013, 6, 1, 4, 45, 56), 7L, 6L, 24L, 67L, 64L]\n",
      "['Family', 'Series', datetime.datetime(2013, 6, 1, 5, 13, 19), 15L, 9L, 1L, 70L, 79L]\n",
      "['Family', 'Series', datetime.datetime(2013, 6, 1, 5, 33, 7), 6L, 17L, 27L, 65L, 69L]\n",
      "['Family', 'Series', datetime.datetime(2013, 6, 1, 5, 43, 51), 6L, 16L, 28L, 68L, 56L]\n"
     ]
    }
   ],
   "source": [
    "#18 days worth\n",
    "qs=\"\"\"\n",
    "    select * from hvacnew3 WHERE  readingtime > 1370044800000 and readingtime < 1371600001000\n",
    "     and family = 'Family' \n",
    "    and series= 'Series'\n",
    "\"\"\"\n",
    "ds=myClient.ts_query('hvacnew3',qs)\n",
    "print ds\n",
    "for r in range(0,20):\n",
    "    print ds.rows[r]"
   ]
  },
  {
   "cell_type": "code",
   "execution_count": 8,
   "metadata": {
    "collapsed": false
   },
   "outputs": [
    {
     "name": "stdout",
     "output_type": "stream",
     "text": [
      "<riak.ts_object.TsObject object at 0x7f1224e19fd0>\n",
      "['Family', 'Series', datetime.datetime(2013, 6, 1, 3, 33, 7), 2L, 13L, 19L, 68L, 76L]\n",
      "['Family', 'Series', datetime.datetime(2013, 6, 1, 6, 13, 20), 2L, 11L, 12L, 69L, 63L]\n",
      "['Family', 'Series', datetime.datetime(2013, 6, 1, 9, 45, 56), 2L, 5L, 10L, 67L, 80L]\n",
      "['Family', 'Series', datetime.datetime(2013, 6, 2, 2, 45, 56), 2L, 13L, 25L, 69L, 67L]\n",
      "['Family', 'Series', datetime.datetime(2013, 6, 2, 5, 13, 20), 2L, 14L, 12L, 68L, 70L]\n",
      "['Family', 'Series', datetime.datetime(2013, 6, 2, 17, 33, 7), 2L, 12L, 26L, 65L, 78L]\n",
      "['Family', 'Series', datetime.datetime(2013, 6, 3, 6, 0, 1), 2L, 18L, 20L, 68L, 59L]\n",
      "['Family', 'Series', datetime.datetime(2013, 6, 4, 3, 0, 1), 2L, 11L, 10L, 69L, 69L]\n",
      "['Family', 'Series', datetime.datetime(2013, 6, 4, 3, 43, 51), 2L, 15L, 15L, 66L, 72L]\n",
      "['Family', 'Series', datetime.datetime(2013, 6, 4, 5, 0, 1), 2L, 18L, 1L, 67L, 63L]\n",
      "['Family', 'Series', datetime.datetime(2013, 6, 4, 6, 45, 56), 2L, 9L, 25L, 69L, 67L]\n",
      "['Family', 'Series', datetime.datetime(2013, 6, 4, 8, 33, 7), 2L, 10L, 14L, 65L, 62L]\n",
      "['Family', 'Series', datetime.datetime(2013, 6, 4, 12, 0, 1), 2L, 15L, 9L, 66L, 80L]\n",
      "['Family', 'Series', datetime.datetime(2013, 6, 4, 12, 45, 56), 2L, 19L, 18L, 68L, 76L]\n",
      "['Family', 'Series', datetime.datetime(2013, 6, 4, 15, 45, 56), 2L, 17L, 10L, 67L, 65L]\n",
      "['Family', 'Series', datetime.datetime(2013, 6, 4, 18, 45, 56), 2L, 14L, 8L, 65L, 79L]\n",
      "['Family', 'Series', datetime.datetime(2013, 6, 5, 0, 13, 19), 2L, 13L, 1L, 66L, 80L]\n",
      "['Family', 'Series', datetime.datetime(2013, 6, 6, 0, 43, 51), 2L, 8L, 30L, 67L, 79L]\n",
      "['Family', 'Series', datetime.datetime(2013, 6, 6, 22, 33, 7), 2L, 19L, 3L, 66L, 68L]\n",
      "['Family', 'Series', datetime.datetime(2013, 6, 7, 5, 45, 56), 2L, 15L, 18L, 68L, 66L]\n",
      "['Family', 'Series', datetime.datetime(2013, 6, 7, 16, 13, 20), 2L, 9L, 14L, 67L, 62L]\n",
      "['Family', 'Series', datetime.datetime(2013, 6, 7, 18, 13, 19), 2L, 13L, 19L, 70L, 57L]\n",
      "['Family', 'Series', datetime.datetime(2013, 6, 7, 23, 33, 7), 2L, 15L, 8L, 70L, 64L]\n",
      "['Family', 'Series', datetime.datetime(2013, 6, 7, 23, 45, 56), 2L, 17L, 30L, 69L, 65L]\n",
      "['Family', 'Series', datetime.datetime(2013, 6, 8, 3, 13, 19), 2L, 2L, 13L, 65L, 68L]\n",
      "['Family', 'Series', datetime.datetime(2013, 6, 8, 5, 13, 19), 2L, 11L, 23L, 65L, 71L]\n",
      "['Family', 'Series', datetime.datetime(2013, 6, 8, 6, 45, 56), 2L, 17L, 11L, 66L, 69L]\n",
      "['Family', 'Series', datetime.datetime(2013, 6, 8, 21, 43, 51), 2L, 11L, 20L, 68L, 55L]\n",
      "['Family', 'Series', datetime.datetime(2013, 6, 9, 0, 13, 20), 2L, 16L, 28L, 69L, 64L]\n",
      "['Family', 'Series', datetime.datetime(2013, 6, 9, 2, 13, 20), 2L, 3L, 16L, 70L, 79L]\n",
      "['Family', 'Series', datetime.datetime(2013, 6, 9, 3, 43, 51), 2L, 10L, 13L, 69L, 58L]\n",
      "['Family', 'Series', datetime.datetime(2013, 6, 9, 10, 45, 56), 2L, 2L, 29L, 65L, 71L]\n",
      "['Family', 'Series', datetime.datetime(2013, 6, 9, 12, 45, 56), 2L, 6L, 1L, 66L, 80L]\n",
      "['Family', 'Series', datetime.datetime(2013, 6, 10, 3, 13, 19), 2L, 3L, 11L, 67L, 70L]\n",
      "['Family', 'Series', datetime.datetime(2013, 6, 10, 4, 43, 51), 2L, 4L, 19L, 70L, 74L]\n",
      "['Family', 'Series', datetime.datetime(2013, 6, 10, 10, 45, 56), 2L, 6L, 16L, 70L, 80L]\n",
      "['Family', 'Series', datetime.datetime(2013, 6, 10, 11, 45, 56), 2L, 18L, 2L, 65L, 59L]\n",
      "['Family', 'Series', datetime.datetime(2013, 6, 10, 12, 13, 19), 2L, 8L, 1L, 70L, 68L]\n",
      "['Family', 'Series', datetime.datetime(2013, 6, 10, 12, 33, 7), 2L, 19L, 2L, 67L, 70L]\n",
      "['Family', 'Series', datetime.datetime(2013, 6, 10, 22, 13, 20), 2L, 16L, 10L, 68L, 56L]\n",
      "['Family', 'Series', datetime.datetime(2013, 6, 11, 2, 0, 1), 2L, 10L, 23L, 70L, 65L]\n",
      "['Family', 'Series', datetime.datetime(2013, 6, 11, 14, 13, 20), 2L, 16L, 21L, 66L, 73L]\n",
      "['Family', 'Series', datetime.datetime(2013, 6, 11, 16, 13, 20), 2L, 15L, 29L, 70L, 61L]\n",
      "['Family', 'Series', datetime.datetime(2013, 6, 11, 20, 45, 56), 2L, 10L, 20L, 67L, 75L]\n",
      "['Family', 'Series', datetime.datetime(2013, 6, 11, 23, 13, 20), 2L, 5L, 1L, 68L, 66L]\n",
      "['Family', 'Series', datetime.datetime(2013, 6, 12, 11, 33, 7), 2L, 1L, 13L, 70L, 78L]\n",
      "['Family', 'Series', datetime.datetime(2013, 6, 12, 19, 13, 20), 2L, 6L, 1L, 67L, 56L]\n",
      "['Family', 'Series', datetime.datetime(2013, 6, 13, 0, 45, 56), 2L, 8L, 25L, 66L, 73L]\n",
      "['Family', 'Series', datetime.datetime(2013, 6, 13, 9, 13, 20), 2L, 9L, 12L, 68L, 71L]\n",
      "['Family', 'Series', datetime.datetime(2013, 6, 13, 14, 43, 51), 2L, 15L, 21L, 67L, 77L]\n",
      "['Family', 'Series', datetime.datetime(2013, 6, 13, 22, 13, 19), 2L, 3L, 12L, 65L, 69L]\n",
      "['Family', 'Series', datetime.datetime(2013, 6, 14, 20, 33, 7), 2L, 14L, 22L, 69L, 80L]\n",
      "['Family', 'Series', datetime.datetime(2013, 6, 14, 21, 45, 56), 2L, 2L, 22L, 70L, 76L]\n",
      "['Family', 'Series', datetime.datetime(2013, 6, 15, 2, 45, 56), 2L, 4L, 26L, 69L, 78L]\n",
      "['Family', 'Series', datetime.datetime(2013, 6, 15, 9, 0, 1), 2L, 9L, 19L, 65L, 79L]\n",
      "['Family', 'Series', datetime.datetime(2013, 6, 15, 9, 45, 56), 2L, 7L, 9L, 70L, 80L]\n",
      "['Family', 'Series', datetime.datetime(2013, 6, 15, 11, 13, 20), 2L, 5L, 12L, 69L, 57L]\n",
      "['Family', 'Series', datetime.datetime(2013, 6, 15, 11, 45, 56), 2L, 19L, 20L, 66L, 77L]\n",
      "['Family', 'Series', datetime.datetime(2013, 6, 16, 0, 13, 20), 2L, 4L, 30L, 67L, 74L]\n",
      "['Family', 'Series', datetime.datetime(2013, 6, 16, 11, 13, 19), 2L, 7L, 24L, 66L, 59L]\n",
      "['Family', 'Series', datetime.datetime(2013, 6, 16, 14, 13, 20), 2L, 1L, 7L, 68L, 75L]\n",
      "['Family', 'Series', datetime.datetime(2013, 6, 16, 19, 0, 1), 2L, 3L, 10L, 67L, 61L]\n",
      "['Family', 'Series', datetime.datetime(2013, 6, 16, 21, 0, 1), 2L, 18L, 29L, 65L, 69L]\n",
      "['Family', 'Series', datetime.datetime(2013, 6, 17, 0, 43, 51), 2L, 6L, 27L, 66L, 58L]\n",
      "['Family', 'Series', datetime.datetime(2013, 6, 17, 9, 45, 56), 2L, 11L, 15L, 68L, 57L]\n",
      "['Family', 'Series', datetime.datetime(2013, 6, 18, 12, 45, 56), 2L, 2L, 9L, 68L, 76L]\n",
      "['Family', 'Series', datetime.datetime(2013, 6, 18, 13, 33, 7), 2L, 6L, 6L, 69L, 78L]\n",
      "['Family', 'Series', datetime.datetime(2013, 6, 18, 21, 43, 51), 2L, 7L, 8L, 70L, 64L]\n",
      "['Family', 'Series', datetime.datetime(2013, 6, 19, 2, 43, 51), 2L, 10L, 26L, 68L, 58L]\n",
      "['Family', 'Series', datetime.datetime(2013, 6, 19, 2, 45, 56), 2L, 4L, 21L, 65L, 57L]\n",
      "['Family', 'Series', datetime.datetime(2013, 6, 19, 5, 45, 56), 2L, 7L, 8L, 65L, 56L]\n",
      "['Family', 'Series', datetime.datetime(2013, 6, 19, 9, 43, 51), 2L, 8L, 19L, 67L, 71L]\n",
      "['Family', 'Series', datetime.datetime(2013, 6, 19, 16, 33, 7), 2L, 11L, 18L, 68L, 79L]\n",
      "['Family', 'Series', datetime.datetime(2013, 6, 19, 18, 43, 51), 2L, 4L, 18L, 67L, 69L]\n",
      "['Family', 'Series', datetime.datetime(2013, 6, 20, 13, 33, 7), 2L, 9L, 14L, 70L, 78L]\n",
      "['Family', 'Series', datetime.datetime(2013, 6, 20, 23, 13, 20), 2L, 10L, 21L, 68L, 64L]\n",
      "['Family', 'Series', datetime.datetime(2013, 6, 21, 1, 13, 20), 2L, 4L, 17L, 66L, 63L]\n",
      "['Family', 'Series', datetime.datetime(2013, 6, 22, 17, 33, 7), 2L, 17L, 19L, 69L, 72L]\n",
      "['Family', 'Series', datetime.datetime(2013, 6, 23, 6, 45, 56), 2L, 17L, 20L, 65L, 70L]\n",
      "['Family', 'Series', datetime.datetime(2013, 6, 23, 13, 33, 7), 2L, 6L, 25L, 69L, 62L]\n",
      "['Family', 'Series', datetime.datetime(2013, 6, 23, 16, 45, 56), 2L, 6L, 29L, 68L, 66L]\n",
      "['Family', 'Series', datetime.datetime(2013, 6, 24, 1, 13, 20), 2L, 2L, 4L, 69L, 56L]\n",
      "['Family', 'Series', datetime.datetime(2013, 6, 24, 8, 13, 19), 2L, 9L, 18L, 66L, 66L]\n",
      "['Family', 'Series', datetime.datetime(2013, 6, 24, 15, 13, 20), 2L, 7L, 28L, 69L, 62L]\n",
      "['Family', 'Series', datetime.datetime(2013, 6, 24, 18, 0, 1), 2L, 15L, 24L, 70L, 69L]\n",
      "['Family', 'Series', datetime.datetime(2013, 6, 25, 1, 45, 56), 2L, 6L, 4L, 70L, 77L]\n",
      "['Family', 'Series', datetime.datetime(2013, 6, 25, 12, 0, 1), 2L, 14L, 10L, 65L, 64L]\n",
      "['Family', 'Series', datetime.datetime(2013, 6, 25, 13, 33, 7), 2L, 5L, 1L, 65L, 79L]\n",
      "['Family', 'Series', datetime.datetime(2013, 6, 25, 16, 45, 56), 2L, 6L, 9L, 69L, 57L]\n",
      "['Family', 'Series', datetime.datetime(2013, 6, 25, 20, 33, 7), 2L, 19L, 11L, 70L, 63L]\n",
      "['Family', 'Series', datetime.datetime(2013, 6, 26, 6, 45, 56), 2L, 14L, 25L, 70L, 78L]\n",
      "['Family', 'Series', datetime.datetime(2013, 6, 26, 19, 45, 56), 2L, 18L, 13L, 69L, 79L]\n",
      "['Family', 'Series', datetime.datetime(2013, 6, 27, 1, 33, 7), 2L, 7L, 11L, 69L, 70L]\n",
      "['Family', 'Series', datetime.datetime(2013, 6, 27, 2, 45, 56), 2L, 16L, 27L, 65L, 79L]\n",
      "['Family', 'Series', datetime.datetime(2013, 6, 27, 3, 43, 51), 2L, 16L, 23L, 69L, 75L]\n",
      "['Family', 'Series', datetime.datetime(2013, 6, 27, 6, 45, 56), 2L, 4L, 21L, 70L, 57L]\n",
      "['Family', 'Series', datetime.datetime(2013, 6, 27, 7, 45, 56), 2L, 1L, 3L, 69L, 80L]\n",
      "['Family', 'Series', datetime.datetime(2013, 6, 27, 11, 13, 20), 2L, 14L, 14L, 66L, 77L]\n",
      "['Family', 'Series', datetime.datetime(2013, 6, 27, 12, 0, 1), 2L, 13L, 6L, 65L, 57L]\n",
      "['Family', 'Series', datetime.datetime(2013, 6, 28, 1, 13, 20), 2L, 3L, 8L, 68L, 75L]\n",
      "['Family', 'Series', datetime.datetime(2013, 6, 28, 7, 13, 19), 2L, 15L, 14L, 65L, 67L]\n",
      "['Family', 'Series', datetime.datetime(2013, 6, 28, 16, 45, 56), 2L, 7L, 4L, 69L, 65L]\n",
      "['Family', 'Series', datetime.datetime(2013, 6, 28, 20, 43, 51), 2L, 16L, 17L, 69L, 59L]\n",
      "['Family', 'Series', datetime.datetime(2013, 6, 28, 22, 43, 51), 2L, 16L, 26L, 69L, 75L]\n",
      "['Family', 'Series', datetime.datetime(2013, 6, 29, 0, 43, 51), 2L, 1L, 26L, 70L, 58L]\n",
      "['Family', 'Series', datetime.datetime(2013, 6, 29, 3, 43, 51), 2L, 12L, 4L, 69L, 70L]\n",
      "['Family', 'Series', datetime.datetime(2013, 6, 29, 5, 43, 51), 2L, 6L, 15L, 66L, 68L]\n",
      "['Family', 'Series', datetime.datetime(2013, 6, 29, 10, 33, 7), 2L, 18L, 3L, 69L, 60L]\n",
      "['Family', 'Series', datetime.datetime(2013, 6, 29, 16, 43, 51), 2L, 13L, 30L, 70L, 74L]\n",
      "['Family', 'Series', datetime.datetime(2013, 6, 29, 21, 0, 1), 2L, 3L, 5L, 69L, 58L]\n",
      "['Family', 'Series', datetime.datetime(2013, 6, 29, 21, 45, 56), 2L, 5L, 11L, 70L, 77L]\n",
      "['Family', 'Series', datetime.datetime(2013, 6, 30, 3, 0, 1), 2L, 8L, 21L, 68L, 66L]\n",
      "['Family', 'Series', datetime.datetime(2013, 6, 30, 9, 45, 56), 2L, 19L, 8L, 65L, 66L]\n",
      "['Family', 'Series', datetime.datetime(2013, 6, 30, 18, 13, 19), 2L, 7L, 18L, 67L, 66L]\n",
      "['Family', 'Series', datetime.datetime(2013, 6, 30, 20, 33, 7), 2L, 19L, 12L, 69L, 78L]\n",
      "['Family', 'Series', datetime.datetime(2013, 6, 30, 22, 43, 51), 2L, 1L, 5L, 70L, 71L]\n"
     ]
    }
   ],
   "source": [
    "#60 days worth\n",
    "qs=\"\"\"\n",
    "    select * from hvacnew3 WHERE  readingtime > 1370044800000 and readingtime < 1375228801000\n",
    "    and family='Family'\n",
    "    and series='Series'\n",
    "    and buildingid = 2 \n",
    "    and systemid <20\n",
    "\"\"\"\n",
    "ds=myClient.ts_query('hvacnew3',qs)\n",
    "print ds\n",
    "#print ds.rows\n",
    "for r in ds.rows:\n",
    "    print r"
   ]
  },
  {
   "cell_type": "markdown",
   "metadata": {
    "collapsed": true
   },
   "source": [
    "System Age appears to be very anomalous, it looks like junk."
   ]
  },
  {
   "cell_type": "code",
   "execution_count": null,
   "metadata": {
    "collapsed": true
   },
   "outputs": [],
   "source": []
  }
 ],
 "metadata": {
  "kernelspec": {
   "display_name": "Python 2",
   "language": "python",
   "name": "python2"
  },
  "language_info": {
   "codemirror_mode": {
    "name": "ipython",
    "version": 2
   },
   "file_extension": ".py",
   "mimetype": "text/x-python",
   "name": "python",
   "nbconvert_exporter": "python",
   "pygments_lexer": "ipython2",
   "version": "2.7.6"
  }
 },
 "nbformat": 4,
 "nbformat_minor": 0
}
